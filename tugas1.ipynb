{
 "cells": [
  {
   "cell_type": "code",
   "execution_count": null,
   "metadata": {},
   "outputs": [
    {
     "name": "stdout",
     "output_type": "stream",
     "text": [
      "Matriks 3x3 : \n",
      " [[1 2 3]\n",
      " [4 5 6]\n",
      " [7 8 9]]\n"
     ]
    }
   ],
   "source": [
    "import numpy as np\n",
    "\n",
    "A = np.array(\n",
    "  [\n",
    "    [1,2,3],\n",
    "    [4,5,6],\n",
    "    [7,8,9],\n",
    "  ]\n",
    ")\n",
    "\n",
    "print(\"Matriks 3x3 : \\n\", A)"
   ]
  },
  {
   "cell_type": "markdown",
   "metadata": {},
   "source": [
    "## Soal 2\n",
    "Definisikan dua matriks 2×2:\n",
    "\n",
    "\n",
    "$$\n",
    "\\mathbf{A} = \n",
    "\\begin{pmatrix} 1 & 2 \\\\ 3 & 4 \n",
    "\\end{pmatrix}$$\n",
    "\n",
    "$$\n",
    "\\mathbf{B} = \n",
    "\\begin{pmatrix} 5 & 6 \\\\ 7 & 8 \n",
    "\\end{pmatrix}$$\n",
    "\n",
    "Hitung hasil penjumlahan dari kedua matriks tersebut."
   ]
  },
  {
   "cell_type": "code",
   "execution_count": 3,
   "metadata": {},
   "outputs": [
    {
     "name": "stdout",
     "output_type": "stream",
     "text": [
      "Hasil penjumlah matriks A dan Matriks B adalah : \n",
      " [[ 6  8]\n",
      " [10 12]]\n"
     ]
    }
   ],
   "source": [
    "import numpy as np\n",
    "\n",
    "A = np.array(\n",
    "  [\n",
    "    [1,2],\n",
    "    [3,4]\n",
    "  ]\n",
    ")\n",
    "\n",
    "B = np.array(\n",
    "  [\n",
    "    [5,6],\n",
    "    [7,8]\n",
    "  ]\n",
    ")\n",
    "\n",
    "ans = A + B\n",
    "print (\"Hasil penjumlah matriks A dan Matriks B adalah : \\n\", ans)"
   ]
  },
  {
   "cell_type": "markdown",
   "metadata": {},
   "source": [
    "## Soal 3\n",
    "\n",
    "Hitunglah hasil perkalian matriks berikut:\n",
    "\n",
    "$$\n",
    "\\mathbf{A} = \n",
    "\\begin{pmatrix} 1 & 0 \\\\ 0 & 1 \n",
    "\\end{pmatrix}$$\n",
    "\n",
    "$$\n",
    "\\mathbf{B} = \n",
    "\\begin{pmatrix} 2 & 3 \\\\ 4 & 5 \n",
    "\\end{pmatrix}$$\n",
    "\n",
    "Cetak hasilnya dalam bentuk matriks.\n"
   ]
  },
  {
   "cell_type": "code",
   "execution_count": null,
   "metadata": {},
   "outputs": [],
   "source": [
    "import numpy as np\n",
    "\n",
    "C = np.array(\n",
    "  [\n",
    "    [1,0],\n",
    "    [0,1]\n",
    "  ]\n",
    ")\n",
    "\n",
    "D = np.array(\n",
    "  [\n",
    "    [2,3],\n",
    "    [4,5]\n",
    "  ]\n",
    ")\n",
    "\n",
    "ans = np.dot(C,D)\n",
    "print(\"Hasil perkalian antara matriks C dan D adalah : \\n\", ans)"
   ]
  },
  {
   "cell_type": "markdown",
   "metadata": {},
   "source": [
    "## Soal 4\n",
    "\n",
    "Diberikan matriks 2×3 berikut:\n",
    "\n",
    "\n",
    "$$\n",
    "\\mathbf{E} = \n",
    "\\begin{pmatrix} 1 & 2 & 3 \\\\ 4 & 5 & 6 \n",
    "\\end{pmatrix}$$\n",
    "\n",
    "Lakukan transpose dan cetak hasilnya.\n"
   ]
  },
  {
   "cell_type": "code",
   "execution_count": null,
   "metadata": {},
   "outputs": [],
   "source": [
    "import numpy as np\n",
    "\n",
    "E = np.array(\n",
    "  [\n",
    "    [1,2,3],\n",
    "    [4,5,6]\n",
    "  ]\n",
    ")\n",
    "\n",
    "trans_E = E.T\n",
    "print(\"Transpose dari E adalah : \\n\", trans_E)"
   ]
  },
  {
   "cell_type": "markdown",
   "metadata": {},
   "source": [
    "## Soal 5\n",
    "\n",
    "Selesaikan sistem persamaan linier berikut menggunakan matriks:\n",
    "\n",
    "𝓍 + 2𝓎 = 10\n",
    "\n",
    "3𝓍 + 4𝓎 = 24\n"
   ]
  },
  {
   "cell_type": "code",
   "execution_count": 8,
   "metadata": {},
   "outputs": [
    {
     "name": "stdout",
     "output_type": "stream",
     "text": [
      "Nilai X dan Y dari persamaan tersebut yaitu : \n",
      " X = 3.9999999999999973 \n",
      " Y = 3.0000000000000013\n"
     ]
    }
   ],
   "source": [
    "import numpy as np\n",
    "\n",
    "A = np.array(\n",
    "  [\n",
    "    [1,2],\n",
    "    [3,4]\n",
    "  ]\n",
    ")\n",
    "\n",
    "B = np.array(\n",
    "  [10,24]\n",
    ")\n",
    "\n",
    "inv_A = np.linalg.inv(A)\n",
    "ans = np.dot(inv_A, B)\n",
    "print(\"Nilai X dan Y dari persamaan tersebut yaitu : \\n X =\", ans[0], \"\\n Y =\", ans[1])"
   ]
  },
  {
   "cell_type": "markdown",
   "metadata": {},
   "source": [
    "## Soal 6\n",
    "Diberikan dua matriks:\n",
    "\n",
    "$$\n",
    "\\mathbf{A} = \n",
    "\\begin{pmatrix} 1 & 2 \\\\ 3 & 4 \n",
    "\\end{pmatrix}$$\n",
    "\n",
    "$$\n",
    "\\mathbf{B} = \n",
    "\\begin{pmatrix} 5 & 6 \\\\ 7 & 8 \n",
    "\\end{pmatrix}$$\n",
    "\n",
    "Gabungkan kedua matriks:\n",
    "\n",
    "• Secara horizontal.\n",
    "\n",
    "• Secara vertikal."
   ]
  },
  {
   "cell_type": "code",
   "execution_count": 11,
   "metadata": {},
   "outputs": [
    {
     "name": "stdout",
     "output_type": "stream",
     "text": [
      "Hasil penggabungan antara matriks A dan B adalah : \n",
      "\n",
      " Horizontal : \n",
      " [[1 2 5 6]\n",
      " [3 4 7 8]] \n",
      "\n",
      " Vertical : \n",
      " [[1 2]\n",
      " [3 4]\n",
      " [5 6]\n",
      " [7 8]]\n"
     ]
    }
   ],
   "source": [
    "import numpy as np\n",
    "\n",
    "A = np.array(\n",
    "  [\n",
    "    [1,2],\n",
    "    [3,4]\n",
    "  ]\n",
    ")\n",
    "\n",
    "B = np.array(\n",
    "  [\n",
    "    [5,6],\n",
    "    [7,8]\n",
    "  ]\n",
    ")\n",
    "\n",
    "ans_horizontal = np.hstack((A,B))\n",
    "ans_vertical = np.vstack((A,B))\n",
    "\n",
    "print(\"Hasil penggabungan antara matriks A dan B adalah : \\n\\n Horizontal : \\n\", ans_horizontal, \"\\n\\n Vertical : \\n\", ans_vertical)"
   ]
  },
  {
   "cell_type": "markdown",
   "metadata": {},
   "source": [
    "## Soal 7\n",
    "Definisikan array 1D berikut:\n",
    "\n",
    "$$\n",
    "\\mathbf{X} = \n",
    "\\begin{pmatrix} 1 & 2 & 3 \\\\ 4 & 5 & 6 \n",
    "\\end{pmatrix}$$\n",
    "\n",
    "Ubah array tersebut menjadi matriks:\n",
    "\n",
    "• Matriks 2×3\n",
    "\n",
    "• Matriks 3×2"
   ]
  },
  {
   "cell_type": "code",
   "execution_count": null,
   "metadata": {},
   "outputs": [
    {
     "name": "stdout",
     "output_type": "stream",
     "text": [
      "Hasil dari perubahan bentuk matriksnya yaitu : \n",
      "\n",
      " Matriks 2x3 : \n",
      " [[1 2 3]\n",
      " [4 5 6]] \n",
      "\n",
      "Matriks 3x2 : \n",
      " [[1 2]\n",
      " [3 4]\n",
      " [5 6]]\n"
     ]
    }
   ],
   "source": [
    "import numpy as np\n",
    "\n",
    "X = np.array(\n",
    "  [\n",
    "    [1,2,3],\n",
    "    [4,5,6]\n",
    "  ]\n",
    ")\n",
    "\n",
    "# X = np.array(\n",
    "#   [1,2,3,4,5,6]\n",
    "# )\n",
    "\n",
    "matriks_2x3 = X.reshape(2,3)\n",
    "matriks_3x2 = X.reshape(3,2)\n",
    "\n",
    "print(\"Hasil dari perubahan bentuk matriksnya yaitu : \\n\\n Matriks 2x3 : \\n\", matriks_2x3, \"\\n\\nMatriks 3x2 : \\n\", matriks_3x2)"
   ]
  }
 ],
 "metadata": {
  "kernelspec": {
   "display_name": "Python 3",
   "language": "python",
   "name": "python3"
  },
  "language_info": {
   "codemirror_mode": {
    "name": "ipython",
    "version": 3
   },
   "file_extension": ".py",
   "mimetype": "text/x-python",
   "name": "python",
   "nbconvert_exporter": "python",
   "pygments_lexer": "ipython3",
   "version": "3.12.8"
  }
 },
 "nbformat": 4,
 "nbformat_minor": 2
}
